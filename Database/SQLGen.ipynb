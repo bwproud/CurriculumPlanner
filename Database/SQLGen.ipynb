{
 "cells": [
  {
   "cell_type": "code",
   "execution_count": 2,
   "metadata": {
    "collapsed": false,
    "scrolled": false
   },
   "outputs": [],
   "source": [
    "import sqlite3\n",
    "import pandas as pd\n",
    "dataframe = pd.read_csv(\"classes.csv\")       \n",
    "db = sqlite3.connect(\"websiteDatabase.db\")\n",
    "cursor = db.cursor()\n",
    "\n",
    "cursor.execute(\"\"\"DROP TABLE IF EXISTS ClassTag\"\"\")\n",
    "cursor.execute(\"\"\"DROP TABLE IF EXISTS Class\"\"\")\n",
    "cursor.execute(\"\"\"DROP TABLE IF EXISTS EQClass\"\"\")\n",
    "cursor.execute(\"\"\"DROP TABLE IF EXISTS Prerequisite\"\"\")\n",
    "cursor.execute(\"\"\"DROP TABLE IF EXISTS Tag\"\"\")\n",
    "cursor.execute(\"\"\"DROP TABLE IF EXISTS User\"\"\")\n",
    "cursor.execute(\"\"\"DROP TABLE IF EXISTS Category\"\"\")\n",
    "cursor.execute(\"\"\"DROP TABLE IF EXISTS ClassCategory\"\"\")\n",
    "cursor.execute(\"\"\"DROP TABLE IF EXISTS EQC\"\"\")\n",
    "\n",
    "#CREATES TABLE TO RECORD USERS\n",
    "cursor.execute(\"\"\"CREATE TABLE IF NOT EXISTS User(UID INTEGER PRIMARY KEY AUTOINCREMENT, \n",
    "                                                    Name TINYTEXT,\n",
    "                                                    Username TINYTEXT, \n",
    "                                                    Password TINYTEXT, \n",
    "                                                    UNIQUE(Username))\"\"\")\n",
    "\n",
    "\n",
    "#CREATES TABLE TO RECORD CLASSES\n",
    "cursor.execute(\"\"\"CREATE TABLE IF NOT EXISTS Class(CID INTEGER PRIMARY KEY, \n",
    "                                                        Name TINYTEXT, \n",
    "                                                        Description TEXT)\"\"\")\n",
    "\n",
    "cursor.execute(\"\"\"CREATE TABLE IF NOT EXISTS EQC(EQClass INTEGER PRIMARY KEY)\"\"\")\n",
    "\n",
    "#CREATES TABLE TO REPRESENT EQUIVALENCE CLASSES WHICH ARE USED TO TRACK PREREQUISITES\n",
    "cursor.execute(\"\"\"CREATE TABLE IF NOT EXISTS EQClass(CID INTEGER, \n",
    "                                                    EQClass Integer, \n",
    "                                                    Primary Key(CID, EQClass)\n",
    "                                                    Foreign Key(CID) References Class(CID)\n",
    "                                                    Foreign Key(EQClass) References EQC(EQClass))\"\"\")\n",
    "\n",
    "#CREATES TABLE TO REPRESENT CATEGORIES WHICH ARE USED TO REPRESENT FIELDS IN COMPUTER SCIENCE\n",
    "cursor.execute(\"\"\"CREATE TABLE IF NOT EXISTS Category(CatID INTEGER PRIMARY KEY, \n",
    "                                                        Name TINYTEXT)\"\"\")\n",
    "\n",
    "\n",
    "#CREATES TABLE TO REPRESENT TAGS WHICH ARE USED TO SELECT CLASSES BASED ON USER INTERESTS\n",
    "cursor.execute(\"\"\"CREATE TABLE IF NOT EXISTS Tag(TID INTEGER PRIMARY KEY, \n",
    "                                                    Name TINYTEXT)\"\"\")\n",
    "\n",
    "\n",
    "#CREATES TABLE TO RECORD PREREQUISITES ASSOCIATED WITH CLASSES\n",
    "cursor.execute(\"\"\"CREATE TABLE IF NOT EXISTS Prerequisite(CID INTEGER, \n",
    "                                                            EQClass INTEGER, \n",
    "                                                            Primary Key(CID, EQClass), \n",
    "                                                            Foreign Key(CID) References Class(CID),\n",
    "                                                            Foreign Key(EQClass) References EQC(EQClass))\"\"\")\n",
    "\n",
    "\n",
    "#CREATES TABLE TO RECORD INTERESTS ASSOCIATED WITH USERS\n",
    "cursor.execute(\"\"\"CREATE TABLE IF NOT EXISTS Interest(UID INTEGER, \n",
    "                                                        TID INTEGER, \n",
    "                                                        Primary Key(UID, TID), \n",
    "                                                        Foreign Key(UID) References User(UID), \n",
    "                                                        Foreign Key(TID) References Tag(TID) )\"\"\")\n",
    "\n",
    "\n",
    "#CREATES TABLE TO RECORD CATEGORIES ASSOCIATED WITH CLASSES\n",
    "cursor.execute(\"\"\"CREATE TABLE IF NOT EXISTS ClassCategory(CID INTEGER, \n",
    "                                                            CatID INTEGER, \n",
    "                                                            Primary Key(CID, CatID), \n",
    "                                                            Foreign Key(CID) References Class(CID), \n",
    "                                                            Foreign Key(CatID) References Category(CatID))\"\"\")\n",
    "\n",
    "\n",
    "#CREATES TABLE TO RECORD TAGS ASSOCIATED WITH CLASSES\n",
    "cursor.execute(\"\"\"CREATE TABLE IF NOT EXISTS ClassTag(CID INTEGER,\n",
    "                                                        TID INTEGER, \n",
    "                                                        Primary Key(CID, TID), \n",
    "                                                        Foreign Key(CID) References Class(CID), \n",
    "                                                        Foreign Key(TID) References Tag(TID))\"\"\")\n",
    "\n",
    "\n",
    "#CREATES TABLE TO RECORD CLASSES TAKEN BY STUDENTS\n",
    "cursor.execute(\"\"\"CREATE TABLE IF NOT EXISTS ClassesTaken(UID INTEGER, \n",
    "                                                            CID INTEGER, \n",
    "                                                            Semester INTEGER,\n",
    "                                                            Primary Key(UID, CID), \n",
    "                                                            Foreign Key(UID) References User(UID), \n",
    "                                                            Foreign Key(CID) References Class(CID))\"\"\")\n",
    "\n",
    "cursor.execute(\"\"\"CREATE TABLE IF NOT EXISTS ClassesToTake(UID INTEGER, \n",
    "                                                            CID INTEGER, \n",
    "                                                            Semester INTEGER,\n",
    "                                                            Primary Key(UID, CID), \n",
    "                                                            Foreign Key(UID) References User(UID), \n",
    "                                                            Foreign Key(CID) References Class(CID))\"\"\")\n",
    "\n",
    "\n",
    "categories=[]\n",
    "eqclasses=[]\n",
    "for row in dataframe.itertuples():\n",
    "    if row[0]==47:\n",
    "        break\n",
    "    cid=row[0]+1    \n",
    "    try:\n",
    "        cursor.execute(\"\"\"INSERT INTO Class(CID, Name, Description) VALUES(?,?, ?)\"\"\", (cid,\"%s: %s\"%(row[1],row[2]), row[4]))\n",
    "    except:\n",
    "        pass\n",
    "    for eqclass in row[8].split(\",\"):\n",
    "        if eqclass.strip() not in eqclasses:\n",
    "            eqclasses.append(eqclass.strip())\n",
    "            try:\n",
    "                cursor.execute(\"\"\"INSERT INTO EQC VALUES(?)\"\"\", (eqclass.strip(),))\n",
    "            except:\n",
    "                pass\n",
    "        try:\n",
    "            cursor.execute(\"\"\"INSERT INTO EQClass(CID, EQClass) VALUES(?, ?)\"\"\", (cid,eqclass.strip()))\n",
    "        except:\n",
    "            pass\n",
    "    for prereq in row[9].split(\",\"):\n",
    "        try:\n",
    "            cursor.execute(\"\"\"INSERT INTO Prerequisite(CID, EQClass) VALUES(?, ?)\"\"\", (cid,prereq.strip()))\n",
    "        except:\n",
    "            pass\n",
    "    try:\n",
    "        for cat in row[6].split(\",\"):\n",
    "            if cat.strip() not in categories:\n",
    "                categories.append(cat.strip())\n",
    "                cursor.execute(\"\"\"INSERT INTO Category VALUES(?,?)\"\"\", (categories.index(cat.strip()),cat.strip()))\n",
    "            cursor.execute(\"\"\"INSERT INTO ClassCategory VALUES(?,?)\"\"\", (cid,categories.index(cat.strip())))\n",
    "    except:\n",
    "        pass    \n",
    "        \n",
    "\n",
    "db.commit()\n",
    "db.close()"
   ]
  },
  {
   "cell_type": "code",
   "execution_count": 4,
   "metadata": {
    "collapsed": false
   },
   "outputs": [
    {
     "data": {
      "text/html": [
       "<div>\n",
       "<table border=\"1\" class=\"dataframe\">\n",
       "  <thead>\n",
       "    <tr style=\"text-align: right;\">\n",
       "      <th></th>\n",
       "      <th>0</th>\n",
       "    </tr>\n",
       "  </thead>\n",
       "  <tbody>\n",
       "    <tr>\n",
       "      <th>0</th>\n",
       "      <td>COMP 523:  Software Engineering Laboratory</td>\n",
       "    </tr>\n",
       "    <tr>\n",
       "      <th>1</th>\n",
       "      <td>COMP 533:  Distributed Systems</td>\n",
       "    </tr>\n",
       "  </tbody>\n",
       "</table>\n",
       "</div>"
      ],
      "text/plain": [
       "                                            0\n",
       "0  COMP 523:  Software Engineering Laboratory\n",
       "1              COMP 533:  Distributed Systems"
      ]
     },
     "execution_count": 4,
     "metadata": {},
     "output_type": "execute_result"
    }
   ],
   "source": [
    "#Finds all classes with Prereq 6(COMP 411)\n",
    "import pandas\n",
    "db = sqlite3.connect(\"websiteDatabase.db\")\n",
    "cursor = db.cursor()\n",
    "cursor.execute(\"\"\"SELECT Distinct c.Name \n",
    "                    FROM Class c, Prerequisite p \n",
    "                        WHERE (p.EQClass='18' OR p.EQClass='47')  AND p.CID=c.CID\"\"\")\n",
    "pandas.DataFrame(cursor.fetchall())"
   ]
  },
  {
   "cell_type": "code",
   "execution_count": null,
   "metadata": {
    "collapsed": false
   },
   "outputs": [],
   "source": [
    "#lists all classes and their respective prereqs for 400 level classes\n",
    "import pandas\n",
    "db = sqlite3.connect(\"websiteDatabase.db\")\n",
    "cursor = db.cursor()\n",
    "cursor.execute(\"\"\"SELECT Distinct c.Name, c.Description, p.EQClass \n",
    "                    FROM EQClass e, Class c, Prerequisite p \n",
    "                        WHERE c.CID=e.CID AND c.Name LIKE 'COMP 4%' AND p.CID=c.CID\"\"\")\n",
    "pandas.DataFrame(cursor.fetchall())"
   ]
  },
  {
   "cell_type": "code",
   "execution_count": null,
   "metadata": {
    "collapsed": false
   },
   "outputs": [],
   "source": [
    "#lists all classes and their respective eqclasses for 400 level classes\n",
    "import pandas\n",
    "db = sqlite3.connect(\"websiteDatabase.db\")\n",
    "cursor = db.cursor()\n",
    "cursor.execute(\"\"\"SELECT Distinct c.Name, c.Description, e.EQClass \n",
    "                    FROM EQClasses e, Classes c, Prerequisites p \n",
    "                        WHERE c.CID=e.CID AND c.Name LIKE 'COMP 4%' AND p.CID=c.CID\"\"\")\n",
    "pandas.DataFrame(cursor.fetchall())"
   ]
  },
  {
   "cell_type": "code",
   "execution_count": 10,
   "metadata": {
    "collapsed": false
   },
   "outputs": [
    {
     "data": {
      "text/html": [
       "<div>\n",
       "<table border=\"1\" class=\"dataframe\">\n",
       "  <thead>\n",
       "    <tr style=\"text-align: right;\">\n",
       "      <th></th>\n",
       "      <th>0</th>\n",
       "      <th>1</th>\n",
       "      <th>2</th>\n",
       "    </tr>\n",
       "  </thead>\n",
       "  <tbody>\n",
       "    <tr>\n",
       "      <th>0</th>\n",
       "      <td>COMP 575:  Introduction to Computer Graphics</td>\n",
       "      <td>COMP 401:  Foundation of Programming</td>\n",
       "      <td>4</td>\n",
       "    </tr>\n",
       "    <tr>\n",
       "      <th>1</th>\n",
       "      <td>COMP 575:  Introduction to Computer Graphics</td>\n",
       "      <td>COMP 410:  Data Structures</td>\n",
       "      <td>5</td>\n",
       "    </tr>\n",
       "    <tr>\n",
       "      <th>2</th>\n",
       "      <td>COMP 575:  Introduction to Computer Graphics</td>\n",
       "      <td>MATH 547: Linear Algebra for Applications</td>\n",
       "      <td>44</td>\n",
       "    </tr>\n",
       "    <tr>\n",
       "      <th>3</th>\n",
       "      <td>COMP 575:  Introduction to Computer Graphics</td>\n",
       "      <td>MATH 577: Linear Algebra</td>\n",
       "      <td>44</td>\n",
       "    </tr>\n",
       "  </tbody>\n",
       "</table>\n",
       "</div>"
      ],
      "text/plain": [
       "                                              0  \\\n",
       "0  COMP 575:  Introduction to Computer Graphics   \n",
       "1  COMP 575:  Introduction to Computer Graphics   \n",
       "2  COMP 575:  Introduction to Computer Graphics   \n",
       "3  COMP 575:  Introduction to Computer Graphics   \n",
       "\n",
       "                                           1   2  \n",
       "0       COMP 401:  Foundation of Programming   4  \n",
       "1                 COMP 410:  Data Structures   5  \n",
       "2  MATH 547: Linear Algebra for Applications  44  \n",
       "3                   MATH 577: Linear Algebra  44  "
      ]
     },
     "execution_count": 10,
     "metadata": {},
     "output_type": "execute_result"
    }
   ],
   "source": [
    "#lists the prerequisites of COMP 431\n",
    "import pandas\n",
    "db = sqlite3.connect(\"websiteDatabase.db\")\n",
    "cursor = db.cursor()\n",
    "cursor.execute(\"\"\"SELECT c1.Name, c2.Name, p.EQClass\n",
    "                    From Class c1, Class c2, EQClass e, Prerequisite p \n",
    "                    WHERE c1.Name LIKE 'COMP 575%' AND c1.CID=p.CID and p.EQClass=e.EQClass and e.CID=c2.CID\"\"\")\n",
    "pandas.DataFrame(cursor.fetchall())"
   ]
  },
  {
   "cell_type": "code",
   "execution_count": null,
   "metadata": {
    "collapsed": false
   },
   "outputs": [],
   "source": [
    "#lists every class and its prerequisites\n",
    "import pandas\n",
    "db = sqlite3.connect(\"websiteDatabase.db\")\n",
    "cursor = db.cursor()\n",
    "cursor.execute(\"\"\"SELECT Distinct c1.Name, c2.Name\n",
    "                    From Classes c1, Classes c2, EQClasses e, Prerequisites p \n",
    "                    WHERE c1.Name LIKE \"COMP 533%\" AND c1.CID=p.CID and p.EQClass=e.EQClass\"\"\")\n",
    "pandas.DataFrame(cursor.fetchall())"
   ]
  },
  {
   "cell_type": "code",
   "execution_count": null,
   "metadata": {
    "collapsed": false
   },
   "outputs": [],
   "source": [
    "#lists all classes and their respective eqclasses for 400 level classes\n",
    "import pandas\n",
    "db = sqlite3.connect(\"websiteDatabase.db\")\n",
    "cursor = db.cursor()\n",
    "cursor.execute(\"\"\"SELECT c.CID, c.Name, e.EQClass \n",
    "                    FROM EQClass e, Class c\n",
    "                        WHERE c.CID=e.CID\"\"\")\n",
    "pandas.DataFrame(cursor.fetchall())"
   ]
  },
  {
   "cell_type": "code",
   "execution_count": null,
   "metadata": {
    "collapsed": false
   },
   "outputs": [],
   "source": [
    "#lists all classes and their respective eqclasses for 400 level classes\n",
    "import pandas\n",
    "db = sqlite3.connect(\"websiteDatabase.db\")\n",
    "cursor = db.cursor()\n",
    "cursor.execute(\"\"\"SELECT *\n",
    "                    FROM Classes\"\"\")\n",
    "pandas.DataFrame(cursor.fetchall())"
   ]
  },
  {
   "cell_type": "code",
   "execution_count": null,
   "metadata": {
    "collapsed": false
   },
   "outputs": [],
   "source": [
    "import iSQL\n",
    "\n",
    "Q1 = iSQL.parser(\"websiteDatabase.db\")"
   ]
  },
  {
   "cell_type": "code",
   "execution_count": null,
   "metadata": {
    "collapsed": false
   },
   "outputs": [],
   "source": [
    "import sqlite3\n",
    "db = sqlite3.connect('websiteDatabase.db')\n",
    "cursor = db.cursor()\n",
    "cursor.execute(\"SELECT * FROM sqlite_master WHERE type='table'\")\n",
    "for row in cursor:\n",
    "    print row"
   ]
  },
  {
   "cell_type": "code",
   "execution_count": null,
   "metadata": {
    "collapsed": true
   },
   "outputs": [],
   "source": []
  }
 ],
 "metadata": {
  "anaconda-cloud": {},
  "kernelspec": {
   "display_name": "Python 3",
   "language": "python",
   "name": "python3"
  },
  "language_info": {
   "codemirror_mode": {
    "name": "ipython",
    "version": 3
   },
   "file_extension": ".py",
   "mimetype": "text/x-python",
   "name": "python",
   "nbconvert_exporter": "python",
   "pygments_lexer": "ipython3",
   "version": "3.5.2"
  }
 },
 "nbformat": 4,
 "nbformat_minor": 0
}
